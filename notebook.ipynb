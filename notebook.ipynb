{
 "cells": [
  {
   "cell_type": "markdown",
   "metadata": {},
   "source": [
    "This notebook collect all spritz price from Louvain-la-Neuve bars and display them in a graph.\n",
    "Make sure to create and activate a virtual environment before running this notebook."
   ]
  },
  {
   "cell_type": "code",
   "execution_count": null,
   "metadata": {},
   "outputs": [],
   "source": [
    "from pypdf import PdfReader\n",
    "import re"
   ]
  },
  {
   "cell_type": "code",
   "execution_count": null,
   "metadata": {},
   "outputs": [],
   "source": [
    "pairs = (\n",
    "    (PdfReader(\"pdf/becketts.pdf\"), \"Becketts\"),\n",
    "    (PdfReader(\"pdf/cartel.pdf\"), \"Cartel\")\n",
    "    )\n",
    "\n",
    "spritz_pattern = r'\\b(?:aperol\\s+spritz|spritz)\\b' # feel free to change this\n",
    "price_pattern = r'\\b\\d{1,2}(,|.)\\d{1,2}?' # same\n",
    "\n",
    "for reade, title in pairs:\n",
    "    for i in range(len(reader.pages)):\n",
    "        page = reader.pages[i]\n",
    "        \n",
    "        lines = page.extract_text().strip().split(\"\\n\")\n",
    "        for i, line in enumerate(lines):\n",
    "            if re.search(pattern, line, re.IGNORECASE):\n",
    "                print(f\"Found on line {i+1} of {title}:\")\n",
    "                print(line)\n",
    "                match = re.search(price_pattern, line)\n",
    "                print(f\"Price : {match.group() if match else 'N/A'}\")\n"
   ]
  }
 ],
 "metadata": {
  "kernelspec": {
   "display_name": ".venv",
   "language": "python",
   "name": "python3"
  },
  "language_info": {
   "codemirror_mode": {
    "name": "ipython",
    "version": 3
   },
   "file_extension": ".py",
   "mimetype": "text/x-python",
   "name": "python",
   "nbconvert_exporter": "python",
   "pygments_lexer": "ipython3",
   "version": "3.12.3"
  }
 },
 "nbformat": 4,
 "nbformat_minor": 2
}
